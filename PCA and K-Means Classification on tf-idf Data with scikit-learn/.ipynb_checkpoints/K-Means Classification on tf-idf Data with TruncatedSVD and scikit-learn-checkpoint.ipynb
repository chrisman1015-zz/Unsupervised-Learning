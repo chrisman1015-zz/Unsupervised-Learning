{
 "cells": [
  {
   "cell_type": "markdown",
   "metadata": {},
   "source": [
    "# K-Means Classification on tf-idf Data with TruncatedSVD and scikit-learn\n",
    "\n",
    "## By Christopher Hauman\n",
    "<br>\n",
    "This is a sequel \n",
    "### Note: This assumes you have basic knowledge of python data science basics. If you don't, or encounter something you're not familiar with, don't worry! You can get a crash course in my guide, [Cleaning MLB Statcast Data using pandas DataFrames and seaborn Visualization](https://github.com/chrisman1015/Cleaning-Statcast-Data/blob/master/Cleaning%20Statcast%20Data/Cleaning%20Statcast%20Data.ipynb).\n",
    "<br>"
   ]
  },
  {
   "cell_type": "markdown",
   "metadata": {},
   "source": [
    "Because PDA won't work on csr matrices\n",
    "tf-idf data is in a csr matrix\n",
    "TruncatedSVD can perform the same transformation as PDA pm csr_matrices"
   ]
  },
  {
   "cell_type": "code",
   "execution_count": 2,
   "metadata": {},
   "outputs": [],
   "source": [
    "import pandas as pd\n",
    "from scipy.sparse import csr_matrix\n",
    "\n",
    "df = pd.read_csv('wikipedia-vectors.csv', index_col=0)\n",
    "articles = csr_matrix(df.transpose())\n",
    "titles = list(df.columns)"
   ]
  },
  {
   "cell_type": "code",
   "execution_count": 3,
   "metadata": {},
   "outputs": [],
   "source": [
    "# Perform the necessary imports\n",
    "from sklearn.decomposition import TruncatedSVD\n",
    "from sklearn.cluster import KMeans\n",
    "from sklearn.pipeline import make_pipeline\n",
    "\n",
    "# Create a TruncatedSVD instance: svd\n",
    "svd = TruncatedSVD(n_components=20)\n",
    "\n",
    "# Create a KMeans instance: kmeans\n",
    "kmeans = KMeans(n_clusters=6)\n",
    "\n",
    "# Create a pipeline: pipeline\n",
    "pipeline = make_pipeline(svd, kmeans)"
   ]
  },
  {
   "cell_type": "code",
   "execution_count": 4,
   "metadata": {},
   "outputs": [
    {
     "name": "stdout",
     "output_type": "stream",
     "text": [
      "    label                                        article\n",
      "14      0                                 Climate change\n",
      "15      0                                 Kyoto Protocol\n",
      "18      0  2010 United Nations Climate Change Conference\n",
      "13      0                               Connie Hedegaard\n",
      "12      0                                   Nigel Lawson\n",
      "11      0       Nationally Appropriate Mitigation Action\n",
      "10      0                                 Global warming\n",
      "19      0  2007 United Nations Climate Change Conference\n",
      "17      0  Greenhouse gas emissions by the United States\n",
      "16      0                                        350.org\n",
      "48      1                                     Gabapentin\n",
      "47      1                                          Fever\n",
      "46      1                                     Prednisone\n",
      "45      1                                    Hepatitis C\n",
      "44      1                                           Gout\n",
      "43      1                                       Leukemia\n",
      "42      1                                    Doxycycline\n",
      "49      1                                       Lymphoma\n",
      "40      1                                    Tonsillitis\n",
      "41      1                                    Hepatitis B\n",
      "9       2                                       LinkedIn\n",
      "8       2                                        Firefox\n",
      "7       2                                  Social search\n",
      "6       2                    Hypertext Transfer Protocol\n",
      "5       2                                         Tumblr\n",
      "4       2                                  Google Search\n",
      "3       2                                    HTTP cookie\n",
      "2       2                              Internet Explorer\n",
      "1       2                                 Alexa Internet\n",
      "0       2                                       HTTP 404\n",
      "29      3                               Jennifer Aniston\n",
      "24      3                                   Jessica Biel\n",
      "20      3                                 Angelina Jolie\n",
      "21      3                             Michael Fassbender\n",
      "22      3                              Denzel Washington\n",
      "23      3                           Catherine Zeta-Jones\n",
      "25      3                                  Russell Crowe\n",
      "26      3                                     Mila Kunis\n",
      "27      3                                 Dakota Fanning\n",
      "28      3                                  Anne Hathaway\n",
      "30      4                  France national football team\n",
      "31      4                              Cristiano Ronaldo\n",
      "39      4                                  Franck Ribéry\n",
      "38      4                                         Neymar\n",
      "37      4                                       Football\n",
      "36      4              2014 FIFA World Cup qualification\n",
      "35      4                Colombia national football team\n",
      "34      4                             Zlatan Ibrahimović\n",
      "33      4                                 Radamel Falcao\n",
      "32      4                                   Arsenal F.C.\n",
      "57      5                          Red Hot Chili Peppers\n",
      "56      5                                       Skrillex\n",
      "55      5                                  Black Sabbath\n",
      "54      5                                 Arctic Monkeys\n",
      "50      5                                   Chad Kroeger\n",
      "52      5                                     The Wanted\n",
      "51      5                                     Nate Ruess\n",
      "58      5                                         Sepsis\n",
      "53      5                                   Stevie Nicks\n",
      "59      5                                    Adam Levine\n"
     ]
    }
   ],
   "source": [
    "# Import pandas\n",
    "import pandas as pd\n",
    "\n",
    "# Fit the pipeline to articles\n",
    "pipeline.fit(articles)\n",
    "\n",
    "# Calculate the cluster labels: labels\n",
    "labels = pipeline.predict(articles)\n",
    "\n",
    "# Create a DataFrame aligning labels and titles: df\n",
    "df = pd.DataFrame({'label': labels, 'article': titles})\n",
    "\n",
    "# Display df sorted by cluster label\n",
    "print(df.sort_values('label'))"
   ]
  },
  {
   "cell_type": "code",
   "execution_count": null,
   "metadata": {},
   "outputs": [],
   "source": []
  }
 ],
 "metadata": {
  "kernelspec": {
   "display_name": "Python 3",
   "language": "python",
   "name": "python3"
  },
  "language_info": {
   "codemirror_mode": {
    "name": "ipython",
    "version": 3
   },
   "file_extension": ".py",
   "mimetype": "text/x-python",
   "name": "python",
   "nbconvert_exporter": "python",
   "pygments_lexer": "ipython3",
   "version": "3.6.8"
  }
 },
 "nbformat": 4,
 "nbformat_minor": 2
}
