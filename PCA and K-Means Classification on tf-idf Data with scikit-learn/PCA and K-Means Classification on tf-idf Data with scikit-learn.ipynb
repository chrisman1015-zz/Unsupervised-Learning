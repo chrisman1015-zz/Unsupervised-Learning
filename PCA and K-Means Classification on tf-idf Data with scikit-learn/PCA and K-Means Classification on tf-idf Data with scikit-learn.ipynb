{
 "cells": [
  {
   "cell_type": "markdown",
   "metadata": {},
   "source": [
    "# K-Means Classification on tf-idf Data with TruncatedSVD and scikit-learn\n",
    "\n",
    "## By Christopher Hauman\n",
    "<br>\n",
    "\n",
    "This is a sequel to my guides on [K-Means Classification on the Iris Dataset](https://nbviewer.jupyter.org/github/chrisman1015/Unsupervised-Learning/blob/master/K-Means%20Classification%20on%20the%20Iris%20Dataset%20with%20scikit-learn/K-Means%20Classification%20on%20the%20Iris%20Dataset%20with%20scikit-learn.ipynb0) and \n",
    "\n",
    "### Note: This assumes you have basic knowledge of python data science basics. If you don't, or encounter something you're not familiar with, don't worry! You can get a crash course in my guide, [Cleaning MLB Statcast Data using pandas DataFrames and seaborn Visualization](https://nbviewer.jupyter.org/github/chrisman1015/Cleaning-Statcast-Data/blob/master/Cleaning%20Statcast%20Data/Cleaning%20Statcast%20Data.ipynb).\n",
    "<br>"
   ]
  },
  {
   "cell_type": "markdown",
   "metadata": {},
   "source": [
    "Because PCA won't work on csr matrices\n",
    "tf-idf data is in a csr matrix\n",
    "TruncatedSVD can perform the same transformation as PDA pm csr_matrices"
   ]
  },
  {
   "cell_type": "code",
   "execution_count": 1,
   "metadata": {},
   "outputs": [],
   "source": [
    "import pandas as pd\n",
    "from scipy.sparse import csr_matrix\n",
    "\n",
    "df = pd.read_csv('wikipedia-vectors.csv', index_col=0)\n",
    "articles = csr_matrix(df.transpose())\n",
    "titles = list(df.columns)"
   ]
  },
  {
   "cell_type": "code",
   "execution_count": 3,
   "metadata": {},
   "outputs": [],
   "source": [
    "# Perform the necessary imports\n",
    "from sklearn.decomposition import TruncatedSVD\n",
    "from sklearn.cluster import KMeans\n",
    "from sklearn.pipeline import make_pipeline\n",
    "\n",
    "# Create a TruncatedSVD instance: svd\n",
    "svd = TruncatedSVD(n_components=20)\n",
    "\n",
    "# Create a KMeans instance: kmeans\n",
    "kmeans = KMeans(n_clusters=6)\n",
    "\n",
    "# Create a pipeline: pipeline\n",
    "pipeline = make_pipeline(svd, kmeans)"
   ]
  },
  {
   "cell_type": "code",
   "execution_count": 4,
   "metadata": {},
   "outputs": [
    {
     "name": "stdout",
     "output_type": "stream",
     "text": [
      "    label                                        article\n",
      "29      0                               Jennifer Aniston\n",
      "28      0                                  Anne Hathaway\n",
      "27      0                                 Dakota Fanning\n",
      "26      0                                     Mila Kunis\n",
      "25      0                                  Russell Crowe\n",
      "24      0                                   Jessica Biel\n",
      "23      0                           Catherine Zeta-Jones\n",
      "22      0                              Denzel Washington\n",
      "21      0                             Michael Fassbender\n",
      "20      0                                 Angelina Jolie\n",
      "0       1                                       HTTP 404\n",
      "5       1                                         Tumblr\n",
      "1       1                                 Alexa Internet\n",
      "9       1                                       LinkedIn\n",
      "8       1                                        Firefox\n",
      "7       1                                  Social search\n",
      "6       1                    Hypertext Transfer Protocol\n",
      "2       1                              Internet Explorer\n",
      "4       1                                  Google Search\n",
      "3       1                                    HTTP cookie\n",
      "38      2                                         Neymar\n",
      "34      2                             Zlatan Ibrahimović\n",
      "33      2                                 Radamel Falcao\n",
      "32      2                                   Arsenal F.C.\n",
      "31      2                              Cristiano Ronaldo\n",
      "30      2                  France national football team\n",
      "39      2                                  Franck Ribéry\n",
      "35      2                Colombia national football team\n",
      "36      2              2014 FIFA World Cup qualification\n",
      "37      2                                       Football\n",
      "50      3                                   Chad Kroeger\n",
      "51      3                                     Nate Ruess\n",
      "52      3                                     The Wanted\n",
      "53      3                                   Stevie Nicks\n",
      "54      3                                 Arctic Monkeys\n",
      "55      3                                  Black Sabbath\n",
      "56      3                                       Skrillex\n",
      "57      3                          Red Hot Chili Peppers\n",
      "59      3                                    Adam Levine\n",
      "58      3                                         Sepsis\n",
      "48      4                                     Gabapentin\n",
      "47      4                                          Fever\n",
      "46      4                                     Prednisone\n",
      "45      4                                    Hepatitis C\n",
      "49      4                                       Lymphoma\n",
      "43      4                                       Leukemia\n",
      "42      4                                    Doxycycline\n",
      "41      4                                    Hepatitis B\n",
      "40      4                                    Tonsillitis\n",
      "44      4                                           Gout\n",
      "10      5                                 Global warming\n",
      "19      5  2007 United Nations Climate Change Conference\n",
      "18      5  2010 United Nations Climate Change Conference\n",
      "17      5  Greenhouse gas emissions by the United States\n",
      "16      5                                        350.org\n",
      "15      5                                 Kyoto Protocol\n",
      "14      5                                 Climate change\n",
      "13      5                               Connie Hedegaard\n",
      "12      5                                   Nigel Lawson\n",
      "11      5       Nationally Appropriate Mitigation Action\n"
     ]
    }
   ],
   "source": [
    "\n",
    "# Fit the pipeline to articles\n",
    "pipeline.fit(articles)\n",
    "\n",
    "# Calculate the cluster labels: labels\n",
    "labels = pipeline.predict(articles)\n",
    "\n",
    "# Create a DataFrame aligning labels and titles: df\n",
    "df = pd.DataFrame({'label': labels, 'article': titles})\n",
    "\n",
    "# Display df sorted by cluster label\n",
    "print(df.sort_values('label'))"
   ]
  },
  {
   "cell_type": "code",
   "execution_count": null,
   "metadata": {},
   "outputs": [],
   "source": []
  }
 ],
 "metadata": {
  "kernelspec": {
   "display_name": "Python 3",
   "language": "python",
   "name": "python3"
  },
  "language_info": {
   "codemirror_mode": {
    "name": "ipython",
    "version": 3
   },
   "file_extension": ".py",
   "mimetype": "text/x-python",
   "name": "python",
   "nbconvert_exporter": "python",
   "pygments_lexer": "ipython3",
   "version": "3.6.8"
  }
 },
 "nbformat": 4,
 "nbformat_minor": 2
}
