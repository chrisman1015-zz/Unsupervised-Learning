{
 "cells": [
  {
   "cell_type": "markdown",
   "metadata": {},
   "source": [
    "# Principal Component Analysis on the Statcast Homeruns Data\n",
    "\n",
    "## By Christopher Hauman\n",
    "<br>\n",
    "\n",
    "#### This example is the sequel to my guide on []. You can read more about PCA and see some great visuals [here](http://setosa.io/ev/principal-component-analysis/). This falls under the umbrella of unsupervised machine learning. If you're unfamiliar with this topic, you can learn the basics in my guide on [K-Means Classification on the Iris Dataset with scikit-learnu](https://nbviewer.jupyter.org/github/chrisman1015/Unsupervised-Learning/blob/master/K-Means%20Classification%20on%20the%20Iris%20Dataset%20with%20scikit-learn/K-Means%20Classification%20on%20the%20Iris%20Dataset%20with%20scikit-learn.ipynb).\n",
    "\n",
    "### Note: This assumes you have basic knowledge of python data science basics. If you don't, or encounter something you're not familiar with, don't worry! You can get a crash course in my guide, [Cleaning MLB Statcast Data using pandas DataFrames and seaborn Visualization](https://nbviewer.jupyter.org/github/chrisman1015/Cleaning-Statcast-Data/blob/master/Cleaning%20Statcast%20Data/Cleaning%20Statcast%20Data.ipynb).\n",
    "<br>"
   ]
  },
  {
   "cell_type": "code",
   "execution_count": 100,
   "metadata": {},
   "outputs": [],
   "source": [
    "from sklearn.decomposition import PCA\n",
    "from scipy.stats import pearsonr"
   ]
  },
  {
   "cell_type": "code",
   "execution_count": 101,
   "metadata": {},
   "outputs": [],
   "source": [
    "# pandas and numPy for DataFrames and arrays\n",
    "import pandas as pd\n",
    "import numpy as np\n",
    "\n",
    "# pyplot and seaborn for plots\n",
    "import matplotlib.pyplot as plt\n",
    "import seaborn as sns"
   ]
  },
  {
   "cell_type": "code",
   "execution_count": 102,
   "metadata": {},
   "outputs": [
    {
     "data": {
      "text/html": [
       "<div>\n",
       "<style scoped>\n",
       "    .dataframe tbody tr th:only-of-type {\n",
       "        vertical-align: middle;\n",
       "    }\n",
       "\n",
       "    .dataframe tbody tr th {\n",
       "        vertical-align: top;\n",
       "    }\n",
       "\n",
       "    .dataframe thead th {\n",
       "        text-align: right;\n",
       "    }\n",
       "</style>\n",
       "<table border=\"1\" class=\"dataframe\">\n",
       "  <thead>\n",
       "    <tr style=\"text-align: right;\">\n",
       "      <th></th>\n",
       "      <th>home_runs</th>\n",
       "      <th>player_name</th>\n",
       "      <th>total_pitches</th>\n",
       "      <th>pitch_percent</th>\n",
       "      <th>xwoba</th>\n",
       "      <th>xba</th>\n",
       "      <th>launch_speed</th>\n",
       "      <th>launch_angle</th>\n",
       "      <th>spin_rate</th>\n",
       "      <th>velocity</th>\n",
       "      <th>effective_speed</th>\n",
       "      <th>release_extension</th>\n",
       "    </tr>\n",
       "  </thead>\n",
       "  <tbody>\n",
       "    <tr>\n",
       "      <th>0</th>\n",
       "      <td>48</td>\n",
       "      <td>Khris Davis</td>\n",
       "      <td>2514</td>\n",
       "      <td>1.9</td>\n",
       "      <td>1.671</td>\n",
       "      <td>0.861</td>\n",
       "      <td>105.9</td>\n",
       "      <td>27.3</td>\n",
       "      <td>2269.0</td>\n",
       "      <td>89.6</td>\n",
       "      <td>89.01</td>\n",
       "      <td>5.93</td>\n",
       "    </tr>\n",
       "    <tr>\n",
       "      <th>1</th>\n",
       "      <td>43</td>\n",
       "      <td>J.D. Martinez</td>\n",
       "      <td>2519</td>\n",
       "      <td>1.7</td>\n",
       "      <td>1.537</td>\n",
       "      <td>0.792</td>\n",
       "      <td>105.0</td>\n",
       "      <td>28.2</td>\n",
       "      <td>2118.0</td>\n",
       "      <td>88.8</td>\n",
       "      <td>88.46</td>\n",
       "      <td>6.05</td>\n",
       "    </tr>\n",
       "    <tr>\n",
       "      <th>2</th>\n",
       "      <td>40</td>\n",
       "      <td>Joey Gallo</td>\n",
       "      <td>2348</td>\n",
       "      <td>1.7</td>\n",
       "      <td>1.588</td>\n",
       "      <td>0.806</td>\n",
       "      <td>107.7</td>\n",
       "      <td>29.4</td>\n",
       "      <td>2164.0</td>\n",
       "      <td>88.6</td>\n",
       "      <td>88.14</td>\n",
       "      <td>5.96</td>\n",
       "    </tr>\n",
       "    <tr>\n",
       "      <th>3</th>\n",
       "      <td>39</td>\n",
       "      <td>Jose Ramirez</td>\n",
       "      <td>3002</td>\n",
       "      <td>1.3</td>\n",
       "      <td>1.152</td>\n",
       "      <td>0.620</td>\n",
       "      <td>101.3</td>\n",
       "      <td>28.8</td>\n",
       "      <td>2192.0</td>\n",
       "      <td>91.6</td>\n",
       "      <td>91.37</td>\n",
       "      <td>6.09</td>\n",
       "    </tr>\n",
       "    <tr>\n",
       "      <th>4</th>\n",
       "      <td>39</td>\n",
       "      <td>Mike Trout</td>\n",
       "      <td>2543</td>\n",
       "      <td>1.5</td>\n",
       "      <td>1.543</td>\n",
       "      <td>0.809</td>\n",
       "      <td>106.5</td>\n",
       "      <td>28.0</td>\n",
       "      <td>2203.0</td>\n",
       "      <td>87.8</td>\n",
       "      <td>87.11</td>\n",
       "      <td>5.90</td>\n",
       "    </tr>\n",
       "  </tbody>\n",
       "</table>\n",
       "</div>"
      ],
      "text/plain": [
       "   home_runs    player_name  total_pitches  pitch_percent  xwoba    xba  \\\n",
       "0         48    Khris Davis           2514            1.9  1.671  0.861   \n",
       "1         43  J.D. Martinez           2519            1.7  1.537  0.792   \n",
       "2         40     Joey Gallo           2348            1.7  1.588  0.806   \n",
       "3         39   Jose Ramirez           3002            1.3  1.152  0.620   \n",
       "4         39     Mike Trout           2543            1.5  1.543  0.809   \n",
       "\n",
       "   launch_speed  launch_angle  spin_rate  velocity  effective_speed  \\\n",
       "0         105.9          27.3     2269.0      89.6            89.01   \n",
       "1         105.0          28.2     2118.0      88.8            88.46   \n",
       "2         107.7          29.4     2164.0      88.6            88.14   \n",
       "3         101.3          28.8     2192.0      91.6            91.37   \n",
       "4         106.5          28.0     2203.0      87.8            87.11   \n",
       "\n",
       "   release_extension  \n",
       "0               5.93  \n",
       "1               6.05  \n",
       "2               5.96  \n",
       "3               6.09  \n",
       "4               5.90  "
      ]
     },
     "execution_count": 102,
     "metadata": {},
     "output_type": "execute_result"
    }
   ],
   "source": [
    "# import csv file to df_raw DataFrame\n",
    "df_hr = pd.read_csv(\"cleaned_allhr2018.csv\", index_col=0)\n",
    "df2 = df_hr.copy()\n",
    "df_hr.head()"
   ]
  },
  {
   "cell_type": "code",
   "execution_count": 105,
   "metadata": {},
   "outputs": [],
   "source": [
    "velo_df = df_hr[['velocity', 'effective_speed']]"
   ]
  },
  {
   "cell_type": "code",
   "execution_count": 106,
   "metadata": {},
   "outputs": [
    {
     "data": {
      "image/png": "[encoded data removed]",
      "text/plain": [
       "<Figure size 432x288 with 1 Axes>"
      ]
     },
     "metadata": {
      "needs_background": "light"
     },
     "output_type": "display_data"
    },
    {
     "name": "stdout",
     "output_type": "stream",
     "text": [
      "correlation = 0.9882583385513954\n"
     ]
    }
   ],
   "source": [
    "# Scatter plot width vs length\n",
    "sns.scatterplot('velocity','effective_speed', data=velo_df)\n",
    "plt.axis('equal')\n",
    "plt.show()\n",
    "\n",
    "# Calculate the Pearson correlation\n",
    "correlation, pvalue = pearsonr(velo_df['velocity'], velo_df['effective_speed'])\n",
    "\n",
    "# Display the correlation\n",
    "print('correlation =', correlation)"
   ]
  },
  {
   "cell_type": "code",
   "execution_count": 107,
   "metadata": {},
   "outputs": [],
   "source": [
    "model = PCA()\n",
    "\n",
    "pca_features = model.fit_transform(np.array(velo_df))\n",
    "\n",
    "# Assign 0th column of pca_features: xs\n",
    "xs = pca_features[:,0]\n",
    "\n",
    "# Assign 1st column of pca_features: ys\n",
    "ys = pca_features[:,1]"
   ]
  },
  {
   "cell_type": "code",
   "execution_count": 108,
   "metadata": {},
   "outputs": [
    {
     "data": {
      "image/png": "[encoded data removed]",
      "text/plain": [
       "<Figure size 432x288 with 1 Axes>"
      ]
     },
     "metadata": {
      "needs_background": "light"
     },
     "output_type": "display_data"
    },
    {
     "name": "stdout",
     "output_type": "stream",
     "text": [
      "correlation = -5.6764174732599534e-18\n"
     ]
    }
   ],
   "source": [
    "sns.scatterplot(x='x', y='y', data=df_transformed , palette=\"Set1\")\n",
    "plt.xlabel('velocity')\n",
    "plt.ylabel('effective speed')\n",
    "plt.ylim(-2,2)\n",
    "plt.show()\n",
    "\n",
    "# Calculate the Pearson correlation of xs and ys\n",
    "correlation, pvalue = pearsonr(xs, ys)\n",
    "\n",
    "# Display the correlation\n",
    "print('correlation =', correlation)"
   ]
  },
  {
   "cell_type": "code",
   "execution_count": 109,
   "metadata": {},
   "outputs": [],
   "source": [
    "array_no_name = np.array(df_hr.drop('player_name', axis =1))"
   ]
  },
  {
   "cell_type": "code",
   "execution_count": 110,
   "metadata": {},
   "outputs": [],
   "source": [
    "# fit pca model to the entire dataset\n",
    "from sklearn.preprocessing import StandardScaler\n",
    "from sklearn.pipeline import make_pipeline\n",
    "\n",
    "scaler = StandardScaler()\n",
    "pca = PCA()\n",
    "pipeline = make_pipeline(scaler, pca)\n",
    "pipeline.fit(array_no_name)\n",
    "features = range(pca.n_components_)"
   ]
  },
  {
   "cell_type": "code",
   "execution_count": 111,
   "metadata": {},
   "outputs": [
    {
     "data": {
      "image/png": "[encoded data removed]",
      "text/plain": [
       "<Figure size 432x288 with 1 Axes>"
      ]
     },
     "metadata": {
      "needs_background": "light"
     },
     "output_type": "display_data"
    }
   ],
   "source": [
    "# plot features vs variance\n",
    "plt.bar(features, pca.explained_variance_)\n",
    "plt.xticks(features)\n",
    "plt.ylabel('variance')\n",
    "plt.xlabel('PCA Feature')\n",
    "plt.show()"
   ]
  },
  {
   "cell_type": "code",
   "execution_count": 112,
   "metadata": {},
   "outputs": [
    {
     "name": "stdout",
     "output_type": "stream",
     "text": [
      "(508, 6)\n"
     ]
    }
   ],
   "source": [
    "# Create a PCA model with 2 components: pca\n",
    "pca = PCA(n_components=6)\n",
    "\n",
    "# Fit the PCA instance to the scaled samples\n",
    "pca.fit(array_no_name)\n",
    "\n",
    "# Transform the scaled samples: pca_features\n",
    "pca_features = pca.transform(array_no_name)\n",
    "\n",
    "# Print the shape of pca_features\n",
    "print(pca_features.shape)"
   ]
  },
  {
   "cell_type": "markdown",
   "metadata": {},
   "source": [
    "We can now store these dimension reduced arrays in their own dataframes, one with the player names and one without."
   ]
  },
  {
   "cell_type": "code",
   "execution_count": 115,
   "metadata": {},
   "outputs": [
    {
     "data": {
      "text/html": [
       "<div>\n",
       "<style scoped>\n",
       "    .dataframe tbody tr th:only-of-type {\n",
       "        vertical-align: middle;\n",
       "    }\n",
       "\n",
       "    .dataframe tbody tr th {\n",
       "        vertical-align: top;\n",
       "    }\n",
       "\n",
       "    .dataframe thead th {\n",
       "        text-align: right;\n",
       "    }\n",
       "</style>\n",
       "<table border=\"1\" class=\"dataframe\">\n",
       "  <thead>\n",
       "    <tr style=\"text-align: right;\">\n",
       "      <th></th>\n",
       "      <th>a</th>\n",
       "      <th>b</th>\n",
       "      <th>c</th>\n",
       "      <th>d</th>\n",
       "      <th>e</th>\n",
       "      <th>f</th>\n",
       "    </tr>\n",
       "  </thead>\n",
       "  <tbody>\n",
       "    <tr>\n",
       "      <th>0</th>\n",
       "      <td>1178.136198</td>\n",
       "      <td>-57.000661</td>\n",
       "      <td>25.950992</td>\n",
       "      <td>-1.703247</td>\n",
       "      <td>0.219834</td>\n",
       "      <td>-2.739987</td>\n",
       "    </tr>\n",
       "    <tr>\n",
       "      <th>1</th>\n",
       "      <td>1182.891028</td>\n",
       "      <td>94.011795</td>\n",
       "      <td>20.963669</td>\n",
       "      <td>-1.311405</td>\n",
       "      <td>-0.695599</td>\n",
       "      <td>-2.154081</td>\n",
       "    </tr>\n",
       "    <tr>\n",
       "      <th>2</th>\n",
       "      <td>1011.931914</td>\n",
       "      <td>47.789403</td>\n",
       "      <td>20.120658</td>\n",
       "      <td>-0.784266</td>\n",
       "      <td>-0.367282</td>\n",
       "      <td>1.039358</td>\n",
       "    </tr>\n",
       "    <tr>\n",
       "      <th>3</th>\n",
       "      <td>1665.927117</td>\n",
       "      <td>20.633629</td>\n",
       "      <td>11.667128</td>\n",
       "      <td>-4.701477</td>\n",
       "      <td>-2.253194</td>\n",
       "      <td>-3.919734</td>\n",
       "    </tr>\n",
       "    <tr>\n",
       "      <th>4</th>\n",
       "      <td>1206.964703</td>\n",
       "      <td>9.055798</td>\n",
       "      <td>17.097611</td>\n",
       "      <td>0.750327</td>\n",
       "      <td>0.680563</td>\n",
       "      <td>-0.161116</td>\n",
       "    </tr>\n",
       "  </tbody>\n",
       "</table>\n",
       "</div>"
      ],
      "text/plain": [
       "             a          b          c         d         e         f\n",
       "0  1178.136198 -57.000661  25.950992 -1.703247  0.219834 -2.739987\n",
       "1  1182.891028  94.011795  20.963669 -1.311405 -0.695599 -2.154081\n",
       "2  1011.931914  47.789403  20.120658 -0.784266 -0.367282  1.039358\n",
       "3  1665.927117  20.633629  11.667128 -4.701477 -2.253194 -3.919734\n",
       "4  1206.964703   9.055798  17.097611  0.750327  0.680563 -0.161116"
      ]
     },
     "execution_count": 115,
     "metadata": {},
     "output_type": "execute_result"
    }
   ],
   "source": [
    "hr_reduced = pd.DataFrame(pca_features)\n",
    "hr_reduced.columns = ['a','b', 'c', 'd', 'e', 'f']\n",
    "hr_reduced.head()"
   ]
  },
  {
   "cell_type": "code",
   "execution_count": 118,
   "metadata": {},
   "outputs": [
    {
     "data": {
      "text/html": [
       "<div>\n",
       "<style scoped>\n",
       "    .dataframe tbody tr th:only-of-type {\n",
       "        vertical-align: middle;\n",
       "    }\n",
       "\n",
       "    .dataframe tbody tr th {\n",
       "        vertical-align: top;\n",
       "    }\n",
       "\n",
       "    .dataframe thead th {\n",
       "        text-align: right;\n",
       "    }\n",
       "</style>\n",
       "<table border=\"1\" class=\"dataframe\">\n",
       "  <thead>\n",
       "    <tr style=\"text-align: right;\">\n",
       "      <th></th>\n",
       "      <th>a</th>\n",
       "      <th>b</th>\n",
       "      <th>c</th>\n",
       "      <th>d</th>\n",
       "      <th>e</th>\n",
       "      <th>f</th>\n",
       "      <th>player_name</th>\n",
       "    </tr>\n",
       "  </thead>\n",
       "  <tbody>\n",
       "    <tr>\n",
       "      <th>0</th>\n",
       "      <td>1178.136198</td>\n",
       "      <td>-57.000661</td>\n",
       "      <td>25.950992</td>\n",
       "      <td>-1.703247</td>\n",
       "      <td>0.219834</td>\n",
       "      <td>-2.739987</td>\n",
       "      <td>Khris Davis</td>\n",
       "    </tr>\n",
       "    <tr>\n",
       "      <th>1</th>\n",
       "      <td>1182.891028</td>\n",
       "      <td>94.011795</td>\n",
       "      <td>20.963669</td>\n",
       "      <td>-1.311405</td>\n",
       "      <td>-0.695599</td>\n",
       "      <td>-2.154081</td>\n",
       "      <td>J.D. Martinez</td>\n",
       "    </tr>\n",
       "    <tr>\n",
       "      <th>2</th>\n",
       "      <td>1011.931914</td>\n",
       "      <td>47.789403</td>\n",
       "      <td>20.120658</td>\n",
       "      <td>-0.784266</td>\n",
       "      <td>-0.367282</td>\n",
       "      <td>1.039358</td>\n",
       "      <td>Joey Gallo</td>\n",
       "    </tr>\n",
       "    <tr>\n",
       "      <th>3</th>\n",
       "      <td>1665.927117</td>\n",
       "      <td>20.633629</td>\n",
       "      <td>11.667128</td>\n",
       "      <td>-4.701477</td>\n",
       "      <td>-2.253194</td>\n",
       "      <td>-3.919734</td>\n",
       "      <td>Jose Ramirez</td>\n",
       "    </tr>\n",
       "    <tr>\n",
       "      <th>4</th>\n",
       "      <td>1206.964703</td>\n",
       "      <td>9.055798</td>\n",
       "      <td>17.097611</td>\n",
       "      <td>0.750327</td>\n",
       "      <td>0.680563</td>\n",
       "      <td>-0.161116</td>\n",
       "      <td>Mike Trout</td>\n",
       "    </tr>\n",
       "  </tbody>\n",
       "</table>\n",
       "</div>"
      ],
      "text/plain": [
       "             a          b          c         d         e         f  \\\n",
       "0  1178.136198 -57.000661  25.950992 -1.703247  0.219834 -2.739987   \n",
       "1  1182.891028  94.011795  20.963669 -1.311405 -0.695599 -2.154081   \n",
       "2  1011.931914  47.789403  20.120658 -0.784266 -0.367282  1.039358   \n",
       "3  1665.927117  20.633629  11.667128 -4.701477 -2.253194 -3.919734   \n",
       "4  1206.964703   9.055798  17.097611  0.750327  0.680563 -0.161116   \n",
       "\n",
       "     player_name  \n",
       "0    Khris Davis  \n",
       "1  J.D. Martinez  \n",
       "2     Joey Gallo  \n",
       "3   Jose Ramirez  \n",
       "4     Mike Trout  "
      ]
     },
     "execution_count": 118,
     "metadata": {},
     "output_type": "execute_result"
    }
   ],
   "source": [
    "hr_6D = hr_reduced.copy()\n",
    "hr_6D['player_name'] = df_hr['player_name']\n",
    "hr_6D.head()"
   ]
  }
 ],
 "metadata": {
  "kernelspec": {
   "display_name": "Python 3",
   "language": "python",
   "name": "python3"
  },
  "language_info": {
   "codemirror_mode": {
    "name": "ipython",
    "version": 3
   },
   "file_extension": ".py",
   "mimetype": "text/x-python",
   "name": "python",
   "nbconvert_exporter": "python",
   "pygments_lexer": "ipython3",
   "version": "3.6.8"
  }
 },
 "nbformat": 4,
 "nbformat_minor": 2
}
