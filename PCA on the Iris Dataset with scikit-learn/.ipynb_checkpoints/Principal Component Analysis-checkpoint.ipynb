{
 "cells": [
  {
   "cell_type": "markdown",
   "metadata": {},
   "source": [
    "# Principal Component Analysis on the Iris Dataset\n",
    "\n",
    "## By Christopher Hauman\n",
    "<br>\n",
    "\n",
    "#### This guide will explain the basics of using principal component analysis to decrease the dimensionality of your model. The key to PCA is reducing a model to only include the features which have high variance. We first decorrelate the data so we can get see which features have high variance, then we reduce the dimensionality of the model to only include those features. You can read more about PCA and see some great visuals [here](http://setosa.io/ev/principal-component-analysis/). This falls under the umbrella of unsupervised machine learning. If you're unfamiliar with this topic, you can learn the basics in my guide on [K-Means Classification on the Iris Dataset with scikit-learnu](https://nbviewer.jupyter.org/github/chrisman1015/Unsupervised-Learning/blob/master/K-Means%20Classification%20on%20the%20Iris%20Dataset%20with%20scikit-learn/K-Means%20Classification%20on%20the%20Iris%20Dataset%20with%20scikit-learn.ipynb).\n",
    "\n",
    "### Note: This assumes you have basic knowledge of python data science basics. If you don't, or encounter something you're not familiar with, don't worry! You can get a crash course in my guide, [Cleaning MLB Statcast Data using pandas DataFrames and seaborn Visualization](https://nbviewer.jupyter.org/github/chrisman1015/Cleaning-Statcast-Data/blob/master/Cleaning%20Statcast%20Data/Cleaning%20Statcast%20Data.ipynb).\n",
    "<br>"
   ]
  },
  {
   "cell_type": "markdown",
   "metadata": {},
   "source": [
    "Similar to our other projects, we'll import the PCA machine learning algorithm from sklearn. We'll also import pearsonr so we can compute the [Pearson Correlation Coefficient](http://onlinestatbook.com/2/describing_bivariate_data/pearson.html) on our data for illustration. First, let's import the data as usual:"
   ]
  },
  {
   "cell_type": "code",
   "execution_count": 233,
   "metadata": {},
   "outputs": [],
   "source": [
    "from sklearn.decomposition import PCA\n",
    "from scipy.stats import pearsonr"
   ]
  },
  {
   "cell_type": "code",
   "execution_count": 234,
   "metadata": {},
   "outputs": [],
   "source": [
    "# import packages\n",
    "\n",
    "# datasets has the Iris dataset\n",
    "from sklearn import datasets\n",
    "\n",
    "# pandas and numPy for DataFrames and arrays\n",
    "import pandas as pd\n",
    "import numpy as np\n",
    "\n",
    "# pyplot and seaborn for plots\n",
    "import matplotlib.pyplot as plt\n",
    "import seaborn as sns"
   ]
  },
  {
   "cell_type": "code",
   "execution_count": 235,
   "metadata": {},
   "outputs": [],
   "source": [
    "# load dataset\n",
    "iris = datasets.load_iris()"
   ]
  },
  {
   "cell_type": "code",
   "execution_count": 236,
   "metadata": {},
   "outputs": [],
   "source": [
    "# load the data and target values\n",
    "X, y = iris.data, iris.target\n",
    "\n",
    "# create DataFrame with iris data\n",
    "df = pd.DataFrame(X, columns = iris.feature_names)\n",
    "df2 = df.copy()"
   ]
  },
  {
   "cell_type": "code",
   "execution_count": 237,
   "metadata": {},
   "outputs": [
    {
     "data": {
      "text/html": [
       "<div>\n",
       "<style scoped>\n",
       "    .dataframe tbody tr th:only-of-type {\n",
       "        vertical-align: middle;\n",
       "    }\n",
       "\n",
       "    .dataframe tbody tr th {\n",
       "        vertical-align: top;\n",
       "    }\n",
       "\n",
       "    .dataframe thead th {\n",
       "        text-align: right;\n",
       "    }\n",
       "</style>\n",
       "<table border=\"1\" class=\"dataframe\">\n",
       "  <thead>\n",
       "    <tr style=\"text-align: right;\">\n",
       "      <th></th>\n",
       "      <th>sepal length (cm)</th>\n",
       "      <th>sepal width (cm)</th>\n",
       "      <th>petal length (cm)</th>\n",
       "      <th>petal width (cm)</th>\n",
       "      <th>species</th>\n",
       "    </tr>\n",
       "  </thead>\n",
       "  <tbody>\n",
       "    <tr>\n",
       "      <th>0</th>\n",
       "      <td>5.1</td>\n",
       "      <td>3.5</td>\n",
       "      <td>1.4</td>\n",
       "      <td>0.2</td>\n",
       "      <td>setosa</td>\n",
       "    </tr>\n",
       "    <tr>\n",
       "      <th>1</th>\n",
       "      <td>4.9</td>\n",
       "      <td>3.0</td>\n",
       "      <td>1.4</td>\n",
       "      <td>0.2</td>\n",
       "      <td>setosa</td>\n",
       "    </tr>\n",
       "    <tr>\n",
       "      <th>2</th>\n",
       "      <td>4.7</td>\n",
       "      <td>3.2</td>\n",
       "      <td>1.3</td>\n",
       "      <td>0.2</td>\n",
       "      <td>setosa</td>\n",
       "    </tr>\n",
       "    <tr>\n",
       "      <th>3</th>\n",
       "      <td>4.6</td>\n",
       "      <td>3.1</td>\n",
       "      <td>1.5</td>\n",
       "      <td>0.2</td>\n",
       "      <td>setosa</td>\n",
       "    </tr>\n",
       "    <tr>\n",
       "      <th>4</th>\n",
       "      <td>5.0</td>\n",
       "      <td>3.6</td>\n",
       "      <td>1.4</td>\n",
       "      <td>0.2</td>\n",
       "      <td>setosa</td>\n",
       "    </tr>\n",
       "  </tbody>\n",
       "</table>\n",
       "</div>"
      ],
      "text/plain": [
       "   sepal length (cm)  sepal width (cm)  petal length (cm)  petal width (cm)  \\\n",
       "0                5.1               3.5                1.4               0.2   \n",
       "1                4.9               3.0                1.4               0.2   \n",
       "2                4.7               3.2                1.3               0.2   \n",
       "3                4.6               3.1                1.5               0.2   \n",
       "4                5.0               3.6                1.4               0.2   \n",
       "\n",
       "  species  \n",
       "0  setosa  \n",
       "1  setosa  \n",
       "2  setosa  \n",
       "3  setosa  \n",
       "4  setosa  "
      ]
     },
     "execution_count": 237,
     "metadata": {},
     "output_type": "execute_result"
    }
   ],
   "source": [
    "# correctly labeled data\n",
    "iris_labeled = pd.read_csv(\"labeled_iris.csv\", index_col=0)\n",
    "iris_labeled.head()"
   ]
  },
  {
   "cell_type": "markdown",
   "metadata": {},
   "source": [
    "### Decorrelation is the First Step in PCA\n",
    "\n",
    "PCA rotates data to be aligned with the axes and shifts them so their mean is 0. This results in decorrelation of the data. We'll demonstrate this by first plotting two of our variables, petal length and width."
   ]
  },
  {
   "cell_type": "code",
   "execution_count": 178,
   "metadata": {},
   "outputs": [
    {
     "data": {
      "image/png": "[encoded data removed]",
      "text/plain": [
       "<Figure size 432x288 with 1 Axes>"
      ]
     },
     "metadata": {
      "needs_background": "light"
     },
     "output_type": "display_data"
    }
   ],
   "source": [
    "petals_df = iris_labeled[['petal length (cm)', 'petal width (cm)', 'species']]\n",
    "# Scatter plot width vs length\n",
    "sns.scatterplot('petal width (cm)','petal length (cm)', hue='species',data=petals_df)\n",
    "plt.axis('equal')\n",
    "plt.show()"
   ]
  },
  {
   "cell_type": "markdown",
   "metadata": {},
   "source": [
    "We can use [Pearson correlation](http://onlinestatbook.com/2/describing_bivariate_data/pearson.html) to get the correlation between sepal length and width."
   ]
  },
  {
   "cell_type": "code",
   "execution_count": 179,
   "metadata": {},
   "outputs": [
    {
     "name": "stdout",
     "output_type": "stream",
     "text": [
      "0.9628654314027961\n"
     ]
    }
   ],
   "source": [
    "# Calculate the Pearson correlation\n",
    "correlation, pvalue = pearsonr(petals_df['petal width (cm)'], petals_df['petal length (cm)'])\n",
    "\n",
    "# Display the correlation\n",
    "print(correlation)"
   ]
  },
  {
   "cell_type": "markdown",
   "metadata": {},
   "source": [
    "We see that the petal width and length have an extremely high correlation.\n",
    "<br>\n",
    "\n",
    "We'll now drop the species from the DataFrame so our algorithm doesn't have access to it. We'll also convert it to a numPy array as always for machine learning:"
   ]
  },
  {
   "cell_type": "code",
   "execution_count": 182,
   "metadata": {},
   "outputs": [],
   "source": [
    "petals_array =  np.array(petals_df.drop('species', axis=1))"
   ]
  },
  {
   "cell_type": "markdown",
   "metadata": {},
   "source": [
    "Now let's run the PCA algorithm on the petals_df and see what happens:"
   ]
  },
  {
   "cell_type": "code",
   "execution_count": 183,
   "metadata": {},
   "outputs": [],
   "source": [
    "model = PCA()\n",
    "\n",
    "pca_features = model.fit_transform(petals_array)"
   ]
  },
  {
   "cell_type": "markdown",
   "metadata": {},
   "source": [
    "pca_features should have transformed the petal length and width values to be along the x and y axes, with 0 correlation. Let's plot the values and add back in the iris species to see how the plot looks now:"
   ]
  },
  {
   "cell_type": "code",
   "execution_count": 188,
   "metadata": {},
   "outputs": [
    {
     "data": {
      "text/plain": [
       "(-2, 2)"
      ]
     },
     "execution_count": 188,
     "metadata": {},
     "output_type": "execute_result"
    },
    {
     "data": {
      "image/png": "[encoded data removed]",
      "text/plain": [
       "<Figure size 432x288 with 1 Axes>"
      ]
     },
     "metadata": {
      "needs_background": "light"
     },
     "output_type": "display_data"
    }
   ],
   "source": [
    "# Assign 0th column of pca_features: xs\n",
    "xs = pca_features[:,0]\n",
    "\n",
    "# Assign 1st column of pca_features: ys\n",
    "ys = pca_features[:,1]\n",
    "\n",
    "\n",
    "df_transformed = pd.DataFrame(pca_features)\n",
    "df_transformed.columns = ['x', 'y']\n",
    "df_transformed['species'] = iris_labeled['species']\n",
    "\n",
    "sns.scatterplot(x='x', y='y', data=df_transformed, hue='species',palette=\"Set1\")\n",
    "plt.title(\"PCA transformed sepals\")\n",
    "plt.ylim(-2,2)"
   ]
  },
  {
   "cell_type": "markdown",
   "metadata": {},
   "source": [
    "The data is now transformed to lie perfectly along the x and y axes. Let's see if it's decorrelated as well:"
   ]
  },
  {
   "cell_type": "code",
   "execution_count": 187,
   "metadata": {},
   "outputs": [
    {
     "name": "stdout",
     "output_type": "stream",
     "text": [
      "-6.563432013965464e-17\n"
     ]
    }
   ],
   "source": [
    "# Calculate the Pearson correlation of xs and ys\n",
    "correlation, pvalue = pearsonr(xs, ys)\n",
    "\n",
    "# Display the correlation\n",
    "print(correlation)"
   ]
  },
  {
   "cell_type": "markdown",
   "metadata": {},
   "source": [
    "We see the PCA algorithms transformed the data so the two variables are no longer correlated. With this, we can now perform dimension reduction:"
   ]
  },
  {
   "cell_type": "markdown",
   "metadata": {},
   "source": [
    "### The Second Step in PCA is Dimension Reduction"
   ]
  },
  {
   "cell_type": "markdown",
   "metadata": {},
   "source": [
    "The intrinsic dimension of a dataset is the minimum number of dimensions required to effectively model the data.\n",
    "<br>\n",
    "\n",
    "To find the intrinsic dimension of the iris data, we need to run the PCA algorithm on all the data. As we have in other guides, we'll standardize our data first with StandardScaler. Remember that StandardScaler normalizes features by removing the mean and scaling to unit variance. We'll build our model and fit it to the iris data (X)."
   ]
  },
  {
   "cell_type": "code",
   "execution_count": 197,
   "metadata": {},
   "outputs": [],
   "source": [
    "# fit pca model to the entire dataset\n",
    "from sklearn.preprocessing import StandardScaler\n",
    "from sklearn.pipeline import make_pipeline\n",
    "\n",
    "scaler = StandardScaler()\n",
    "pca = PCA()\n",
    "pipeline = make_pipeline(scaler, pca)\n",
    "pipeline.fit(np.array(X))\n",
    "features = range(pca.n_components_)"
   ]
  },
  {
   "cell_type": "markdown",
   "metadata": {},
   "source": [
    "We can now use the explained variance of the model features (the scaled variances without correlation) to see which features are components of the intrinsic dimension. Remember, we only want to include the features with significant variance, as those features will be much more telling when using the model. Features with very small variance are generally noise."
   ]
  },
  {
   "cell_type": "code",
   "execution_count": 198,
   "metadata": {},
   "outputs": [
    {
     "data": {
      "image/png": "[encoded data removed]",
      "text/plain": [
       "<Figure size 432x288 with 1 Axes>"
      ]
     },
     "metadata": {
      "needs_background": "light"
     },
     "output_type": "display_data"
    }
   ],
   "source": [
    "# plot features vs variance\n",
    "plt.bar(features, pca.explained_variance_)\n",
    "plt.xticks(features)\n",
    "plt.ylabel('variance')\n",
    "plt.xlabel('PCA Feature')\n",
    "plt.show()"
   ]
  },
  {
   "cell_type": "markdown",
   "metadata": {},
   "source": [
    "The intrinsic dimension is the number of PCA features with significant variance. In this case, only the first two dimensions have significant variance, so the intrinsic dimension is two. This means we could effectively model this entire dataset using only two dimensions instead of the usual 4!"
   ]
  },
  {
   "cell_type": "markdown",
   "metadata": {},
   "source": [
    "Now that we know the intrinsic dimension of the data, we'll use the PCA algorithm once more to reduce the dimensionality of the data."
   ]
  },
  {
   "cell_type": "code",
   "execution_count": 199,
   "metadata": {},
   "outputs": [
    {
     "name": "stdout",
     "output_type": "stream",
     "text": [
      "(150, 2)\n"
     ]
    }
   ],
   "source": [
    "# Create a PCA model with 2 components: pca\n",
    "pca = PCA(n_components=2)\n",
    "\n",
    "# Fit the PCA instance to the scaled samples\n",
    "pca.fit(X)\n",
    "\n",
    "# Transform the scaled samples: pca_features\n",
    "pca_features = pca.transform(X)\n",
    "\n",
    "# Print the shape of pca_features\n",
    "print(pca_features.shape)"
   ]
  },
  {
   "cell_type": "markdown",
   "metadata": {},
   "source": [
    "We see the output is the same size as the original dataset, with only half the features. But how well does this actually represent the data? Let's add the Iris species into PCA reduced data and plot it:"
   ]
  },
  {
   "cell_type": "code",
   "execution_count": 201,
   "metadata": {},
   "outputs": [
    {
     "data": {
      "text/plain": [
       "[]"
      ]
     },
     "execution_count": 201,
     "metadata": {},
     "output_type": "execute_result"
    },
    {
     "data": {
      "image/png": "[encoded data removed]",
      "text/plain": [
       "<Figure size 432x288 with 1 Axes>"
      ]
     },
     "metadata": {
      "needs_background": "light"
     },
     "output_type": "display_data"
    }
   ],
   "source": [
    "iris_2d = pd.DataFrame(pca_features)\n",
    "iris_2d.columns = ['x','y']\n",
    "iris_2d['species'] = iris_labeled['species']\n",
    "\n",
    "sns.scatterplot(x='x', y='y',data=iris_2d, hue='species')\n",
    "plt.title(\"PCA Reduced Iris Data\")\n",
    "plt.plot()"
   ]
  },
  {
   "cell_type": "markdown",
   "metadata": {},
   "source": [
    "This demonstrates the incredibly power of the PCA algorithm. With only half the features, the model is still able to draw clear distinctions between the Iris Data.\n",
    "***\n",
    "\n",
    "Unfortunately, sometimes it's difficult to tell what the intrinsic dimension is. To illustrate this, we'll print the PCA feature barplots for the individual species of Iris:"
   ]
  },
  {
   "cell_type": "code",
   "execution_count": 227,
   "metadata": {},
   "outputs": [
    {
     "data": {
      "image/png": "[encoded data removed]",
      "text/plain": [
       "<Figure size 432x288 with 1 Axes>"
      ]
     },
     "metadata": {
      "needs_background": "light"
     },
     "output_type": "display_data"
    }
   ],
   "source": [
    "# get numpy array for just setosas\n",
    "setosas = np.array(iris_labeled[iris_labeled['species'] == 'setosa'].drop('species', axis = 1))\n",
    "\n",
    "#fit model for setosas\n",
    "scaler = StandardScaler()\n",
    "pca = PCA()\n",
    "pipeline = make_pipeline(scaler, pca)\n",
    "pipeline.fit(setosas)\n",
    "features = range(pca.n_components_)\n",
    "\n",
    "# plot features vs variance\n",
    "plt.bar(features, pca.explained_variance_)\n",
    "plt.xticks(features)\n",
    "plt.ylabel('variance')\n",
    "plt.xlabel('PCA Feature')\n",
    "plt.title('Setosas')\n",
    "plt.show()"
   ]
  },
  {
   "cell_type": "code",
   "execution_count": 225,
   "metadata": {},
   "outputs": [
    {
     "data": {
      "image/png": "[encoded data removed]",
      "text/plain": [
       "<Figure size 432x288 with 1 Axes>"
      ]
     },
     "metadata": {
      "needs_background": "light"
     },
     "output_type": "display_data"
    }
   ],
   "source": [
    "# get array of only versicolors\n",
    "versicolors = np.array(iris_labeled[iris_labeled['species'] == 'versicolor'].drop('species', axis = 1))\n",
    "\n",
    "# fit versicolor model\n",
    "scaler = StandardScaler()\n",
    "pca = PCA()\n",
    "pipeline = make_pipeline(scaler, pca)\n",
    "pipeline.fit(virginicas)\n",
    "features = range(pca.n_components_)\n",
    "\n",
    "# plot features vs variance\n",
    "plt.bar(features, pca.explained_variance_)\n",
    "plt.xticks(features)\n",
    "plt.ylabel('variance')\n",
    "plt.xlabel('PCA Feature')\n",
    "plt.title('Virginicas')\n",
    "plt.show()"
   ]
  },
  {
   "cell_type": "code",
   "execution_count": 226,
   "metadata": {},
   "outputs": [
    {
     "data": {
      "image/png": "[encoded data removed]",
      "text/plain": [
       "<Figure size 432x288 with 1 Axes>"
      ]
     },
     "metadata": {
      "needs_background": "light"
     },
     "output_type": "display_data"
    }
   ],
   "source": [
    "# get array of just virginicas\n",
    "virginicas = np.array(iris_labeled[iris_labeled['species'] == 'virginica'].drop('species', axis = 1))\n",
    "\n",
    "# fit virginicas model\n",
    "scaler = StandardScaler()\n",
    "pca = PCA()\n",
    "pipeline = make_pipeline(scaler, pca)\n",
    "pipeline.fit(versicolors)\n",
    "features = range(pca.n_components_)\n",
    "\n",
    "# plot features vs variance\n",
    "plt.bar(features, pca.explained_variance_)\n",
    "plt.xticks(features)\n",
    "plt.ylabel('variance')\n",
    "plt.xlabel('PCA Feature')\n",
    "plt.title('Versicolors')\n",
    "plt.show()"
   ]
  },
  {
   "cell_type": "markdown",
   "metadata": {},
   "source": [
    "For the setosas, what should the intrinsic dimension be? 1? 2? 3? 4? \n",
    "<br>\n",
    "\n",
    "When we don't have a clear drop in variance, we need to keep every feature. On the contrary, we see a much larger drop for Versicolors, which can be modeled in a single dimension!\n",
    "***\n",
    "That does it for this guide. Thanks for reading, and please email me at christopherhauman@gmail.com if you have any questions or feedback."
   ]
  }
 ],
 "metadata": {
  "kernelspec": {
   "display_name": "Python 3",
   "language": "python",
   "name": "python3"
  },
  "language_info": {
   "codemirror_mode": {
    "name": "ipython",
    "version": 3
   },
   "file_extension": ".py",
   "mimetype": "text/x-python",
   "name": "python",
   "nbconvert_exporter": "python",
   "pygments_lexer": "ipython3",
   "version": "3.6.8"
  }
 },
 "nbformat": 4,
 "nbformat_minor": 2
}
